{
 "cells": [
  {
   "cell_type": "markdown",
   "metadata": {},
   "source": [
    "# Time-Series Classification: CNN1D"
   ]
  },
  {
   "cell_type": "markdown",
   "metadata": {},
   "source": [
    "## Import libraries\n"
   ]
  },
  {
   "cell_type": "code",
   "execution_count": 1,
   "metadata": {
    "execution": {
     "iopub.execute_input": "2022-12-12T14:45:13.838265Z",
     "iopub.status.busy": "2022-12-12T14:45:13.837578Z",
     "iopub.status.idle": "2022-12-12T14:45:17.450130Z",
     "shell.execute_reply": "2022-12-12T14:45:17.449387Z",
     "shell.execute_reply.started": "2022-12-12T14:45:13.838189Z"
    }
   },
   "outputs": [
    {
     "name": "stdout",
     "output_type": "stream",
     "text": [
      "Collecting keras_tuner\n",
      "  Downloading keras_tuner-1.1.3-py3-none-any.whl (135 kB)\n",
      "\u001b[2K     \u001b[90m━━━━━━━━━━━━━━━━━━━━━━━━━━━━━━━━━━━━━━\u001b[0m \u001b[32m135.7/135.7 kB\u001b[0m \u001b[31m20.5 MB/s\u001b[0m eta \u001b[36m0:00:00\u001b[0m\n",
      "\u001b[?25hCollecting kt-legacy\n",
      "  Downloading kt_legacy-1.0.4-py3-none-any.whl (9.6 kB)\n",
      "Requirement already satisfied: numpy in /usr/local/lib/python3.9/dist-packages (from keras_tuner) (1.23.1)\n",
      "Requirement already satisfied: requests in /usr/local/lib/python3.9/dist-packages (from keras_tuner) (2.28.1)\n",
      "Requirement already satisfied: tensorboard in /usr/local/lib/python3.9/dist-packages (from keras_tuner) (2.9.1)\n",
      "Requirement already satisfied: packaging in /usr/local/lib/python3.9/dist-packages (from keras_tuner) (21.3)\n",
      "Requirement already satisfied: ipython in /usr/local/lib/python3.9/dist-packages (from keras_tuner) (8.4.0)\n",
      "Requirement already satisfied: jedi>=0.16 in /usr/local/lib/python3.9/dist-packages (from ipython->keras_tuner) (0.18.1)\n",
      "Requirement already satisfied: prompt-toolkit!=3.0.0,!=3.0.1,<3.1.0,>=2.0.0 in /usr/local/lib/python3.9/dist-packages (from ipython->keras_tuner) (3.0.30)\n",
      "Requirement already satisfied: stack-data in /usr/local/lib/python3.9/dist-packages (from ipython->keras_tuner) (0.3.0)\n",
      "Requirement already satisfied: matplotlib-inline in /usr/local/lib/python3.9/dist-packages (from ipython->keras_tuner) (0.1.3)\n",
      "Requirement already satisfied: pexpect>4.3 in /usr/local/lib/python3.9/dist-packages (from ipython->keras_tuner) (4.8.0)\n",
      "Requirement already satisfied: pickleshare in /usr/local/lib/python3.9/dist-packages (from ipython->keras_tuner) (0.7.5)\n",
      "Requirement already satisfied: backcall in /usr/local/lib/python3.9/dist-packages (from ipython->keras_tuner) (0.2.0)\n",
      "Requirement already satisfied: decorator in /usr/local/lib/python3.9/dist-packages (from ipython->keras_tuner) (5.1.1)\n",
      "Requirement already satisfied: pygments>=2.4.0 in /usr/local/lib/python3.9/dist-packages (from ipython->keras_tuner) (2.12.0)\n",
      "Requirement already satisfied: traitlets>=5 in /usr/local/lib/python3.9/dist-packages (from ipython->keras_tuner) (5.3.0)\n",
      "Requirement already satisfied: setuptools>=18.5 in /usr/local/lib/python3.9/dist-packages (from ipython->keras_tuner) (63.1.0)\n",
      "Requirement already satisfied: pyparsing!=3.0.5,>=2.0.2 in /usr/local/lib/python3.9/dist-packages (from packaging->keras_tuner) (3.0.9)\n",
      "Requirement already satisfied: charset-normalizer<3,>=2 in /usr/local/lib/python3.9/dist-packages (from requests->keras_tuner) (2.1.0)\n",
      "Requirement already satisfied: certifi>=2017.4.17 in /usr/lib/python3/dist-packages (from requests->keras_tuner) (2019.11.28)\n",
      "Requirement already satisfied: urllib3<1.27,>=1.21.1 in /usr/local/lib/python3.9/dist-packages (from requests->keras_tuner) (1.26.10)\n",
      "Requirement already satisfied: idna<4,>=2.5 in /usr/lib/python3/dist-packages (from requests->keras_tuner) (2.8)\n",
      "Requirement already satisfied: markdown>=2.6.8 in /usr/local/lib/python3.9/dist-packages (from tensorboard->keras_tuner) (3.3.7)\n",
      "Requirement already satisfied: grpcio>=1.24.3 in /usr/local/lib/python3.9/dist-packages (from tensorboard->keras_tuner) (1.47.0)\n",
      "Requirement already satisfied: wheel>=0.26 in /usr/local/lib/python3.9/dist-packages (from tensorboard->keras_tuner) (0.35.1)\n",
      "Requirement already satisfied: tensorboard-data-server<0.7.0,>=0.6.0 in /usr/local/lib/python3.9/dist-packages (from tensorboard->keras_tuner) (0.6.1)\n",
      "Requirement already satisfied: tensorboard-plugin-wit>=1.6.0 in /usr/local/lib/python3.9/dist-packages (from tensorboard->keras_tuner) (1.8.1)\n",
      "Requirement already satisfied: protobuf<3.20,>=3.9.2 in /usr/local/lib/python3.9/dist-packages (from tensorboard->keras_tuner) (3.19.4)\n",
      "Requirement already satisfied: google-auth<3,>=1.6.3 in /usr/local/lib/python3.9/dist-packages (from tensorboard->keras_tuner) (2.9.0)\n",
      "Requirement already satisfied: absl-py>=0.4 in /usr/local/lib/python3.9/dist-packages (from tensorboard->keras_tuner) (1.1.0)\n",
      "Requirement already satisfied: google-auth-oauthlib<0.5,>=0.4.1 in /usr/local/lib/python3.9/dist-packages (from tensorboard->keras_tuner) (0.4.6)\n",
      "Requirement already satisfied: werkzeug>=1.0.1 in /usr/local/lib/python3.9/dist-packages (from tensorboard->keras_tuner) (2.1.2)\n",
      "Requirement already satisfied: six>=1.9.0 in /usr/lib/python3/dist-packages (from google-auth<3,>=1.6.3->tensorboard->keras_tuner) (1.14.0)\n",
      "Requirement already satisfied: pyasn1-modules>=0.2.1 in /usr/local/lib/python3.9/dist-packages (from google-auth<3,>=1.6.3->tensorboard->keras_tuner) (0.2.8)\n",
      "Requirement already satisfied: rsa<5,>=3.1.4 in /usr/lib/python3/dist-packages (from google-auth<3,>=1.6.3->tensorboard->keras_tuner) (4.0)\n",
      "Requirement already satisfied: cachetools<6.0,>=2.0.0 in /usr/local/lib/python3.9/dist-packages (from google-auth<3,>=1.6.3->tensorboard->keras_tuner) (5.2.0)\n",
      "Requirement already satisfied: requests-oauthlib>=0.7.0 in /usr/local/lib/python3.9/dist-packages (from google-auth-oauthlib<0.5,>=0.4.1->tensorboard->keras_tuner) (1.3.1)\n",
      "Requirement already satisfied: parso<0.9.0,>=0.8.0 in /usr/local/lib/python3.9/dist-packages (from jedi>=0.16->ipython->keras_tuner) (0.8.3)\n",
      "Requirement already satisfied: importlib-metadata>=4.4 in /usr/local/lib/python3.9/dist-packages (from markdown>=2.6.8->tensorboard->keras_tuner) (4.12.0)\n",
      "Requirement already satisfied: ptyprocess>=0.5 in /usr/local/lib/python3.9/dist-packages (from pexpect>4.3->ipython->keras_tuner) (0.7.0)\n",
      "Requirement already satisfied: wcwidth in /usr/local/lib/python3.9/dist-packages (from prompt-toolkit!=3.0.0,!=3.0.1,<3.1.0,>=2.0.0->ipython->keras_tuner) (0.2.5)\n",
      "Requirement already satisfied: pure-eval in /usr/local/lib/python3.9/dist-packages (from stack-data->ipython->keras_tuner) (0.2.2)\n",
      "Requirement already satisfied: asttokens in /usr/local/lib/python3.9/dist-packages (from stack-data->ipython->keras_tuner) (2.0.5)\n",
      "Requirement already satisfied: executing in /usr/local/lib/python3.9/dist-packages (from stack-data->ipython->keras_tuner) (0.8.3)\n",
      "Requirement already satisfied: zipp>=0.5 in /usr/local/lib/python3.9/dist-packages (from importlib-metadata>=4.4->markdown>=2.6.8->tensorboard->keras_tuner) (3.8.1)\n",
      "Requirement already satisfied: pyasn1<0.5.0,>=0.4.6 in /usr/local/lib/python3.9/dist-packages (from pyasn1-modules>=0.2.1->google-auth<3,>=1.6.3->tensorboard->keras_tuner) (0.4.8)\n",
      "Requirement already satisfied: oauthlib>=3.0.0 in /usr/local/lib/python3.9/dist-packages (from requests-oauthlib>=0.7.0->google-auth-oauthlib<0.5,>=0.4.1->tensorboard->keras_tuner) (3.2.0)\n",
      "Installing collected packages: kt-legacy, keras_tuner\n",
      "Successfully installed keras_tuner-1.1.3 kt-legacy-1.0.4\n",
      "\u001b[33mWARNING: Running pip as the 'root' user can result in broken permissions and conflicting behaviour with the system package manager. It is recommended to use a virtual environment instead: https://pip.pypa.io/warnings/venv\u001b[0m\u001b[33m\n",
      "\u001b[0m"
     ]
    }
   ],
   "source": [
    "!pip install keras_tuner"
   ]
  },
  {
   "cell_type": "code",
   "execution_count": 1,
   "metadata": {
    "execution": {
     "iopub.execute_input": "2022-12-12T14:45:18.424366Z",
     "iopub.status.busy": "2022-12-12T14:45:18.423361Z",
     "iopub.status.idle": "2022-12-12T14:45:26.631081Z",
     "shell.execute_reply": "2022-12-12T14:45:26.630450Z",
     "shell.execute_reply.started": "2022-12-12T14:45:18.424333Z"
    },
    "jupyter": {
     "outputs_hidden": false
    }
   },
   "outputs": [
    {
     "name": "stdout",
     "output_type": "stream",
     "text": [
      "2.10.0\n"
     ]
    }
   ],
   "source": [
    "import tensorflow as tf\n",
    "import numpy as np\n",
    "import os\n",
    "import random\n",
    "import pandas as pd\n",
    "import seaborn as sns\n",
    "import matplotlib.pyplot as plt\n",
    "plt.rc('font', size=16)\n",
    "from sklearn.metrics import accuracy_score, f1_score, precision_score, recall_score\n",
    "from sklearn.metrics import confusion_matrix\n",
    "from sklearn.preprocessing import MinMaxScaler\n",
    "from sklearn.model_selection import train_test_split\n",
    "import warnings\n",
    "import logging\n",
    "import keras_tuner\n",
    "from tensorflow import keras\n",
    "\n",
    "tfk = tf.keras\n",
    "tfkl = tf.keras.layers\n",
    "print(tf.__version__)"
   ]
  },
  {
   "cell_type": "markdown",
   "metadata": {},
   "source": [
    "## Set seed for reproducibility\n"
   ]
  },
  {
   "cell_type": "code",
   "execution_count": 2,
   "metadata": {
    "execution": {
     "iopub.execute_input": "2022-12-12T14:45:26.633247Z",
     "iopub.status.busy": "2022-12-12T14:45:26.632296Z",
     "iopub.status.idle": "2022-12-12T14:45:26.637003Z",
     "shell.execute_reply": "2022-12-12T14:45:26.636513Z",
     "shell.execute_reply.started": "2022-12-12T14:45:26.633221Z"
    },
    "jupyter": {
     "outputs_hidden": false
    }
   },
   "outputs": [],
   "source": [
    "# Random seed for reproducibility\n",
    "seed = 42\n",
    "\n",
    "random.seed(seed)\n",
    "os.environ['PYTHONHASHSEED'] = str(seed)\n",
    "np.random.seed(seed)\n",
    "tf.random.set_seed(seed)\n",
    "tf.compat.v1.set_random_seed(seed)"
   ]
  },
  {
   "cell_type": "markdown",
   "metadata": {},
   "source": [
    "## Data Preprocessing"
   ]
  },
  {
   "cell_type": "markdown",
   "metadata": {},
   "source": [
    "### Load Data"
   ]
  },
  {
   "cell_type": "code",
   "execution_count": 4,
   "metadata": {
    "execution": {
     "iopub.execute_input": "2022-12-12T14:45:26.638274Z",
     "iopub.status.busy": "2022-12-12T14:45:26.637698Z",
     "iopub.status.idle": "2022-12-12T14:45:26.674834Z",
     "shell.execute_reply": "2022-12-12T14:45:26.674134Z",
     "shell.execute_reply.started": "2022-12-12T14:45:26.638251Z"
    },
    "jupyter": {
     "outputs_hidden": false
    }
   },
   "outputs": [],
   "source": [
    "data_x = np.load('x_train.npy')\n",
    "data_y = np.load('y_train.npy')"
   ]
  },
  {
   "cell_type": "code",
   "execution_count": 5,
   "metadata": {
    "execution": {
     "iopub.execute_input": "2022-12-12T14:45:26.676737Z",
     "iopub.status.busy": "2022-12-12T14:45:26.676078Z",
     "iopub.status.idle": "2022-12-12T14:45:26.679961Z",
     "shell.execute_reply": "2022-12-12T14:45:26.679467Z",
     "shell.execute_reply.started": "2022-12-12T14:45:26.676712Z"
    },
    "jupyter": {
     "outputs_hidden": false
    }
   },
   "outputs": [],
   "source": [
    "training_labels = {\n",
    "    'Wish': 0,\n",
    "    'Another': 1,\n",
    "    'Comfortably': 2,\n",
    "    'Money': 3,\n",
    "    'Breathe': 4,\n",
    "    'Time': 5,\n",
    "    'Brain' : 6,\n",
    "    'Echoes' : 7,\n",
    "    'Wearing' : 8,\n",
    "    'Sorrow' : 9,\n",
    "    'Hey' : 10,\n",
    "    'Shine' : 11\n",
    "}"
   ]
  },
  {
   "cell_type": "code",
   "execution_count": 6,
   "metadata": {
    "execution": {
     "iopub.execute_input": "2022-12-12T14:45:26.681231Z",
     "iopub.status.busy": "2022-12-12T14:45:26.680653Z",
     "iopub.status.idle": "2022-12-12T14:45:26.691826Z",
     "shell.execute_reply": "2022-12-12T14:45:26.691292Z",
     "shell.execute_reply.started": "2022-12-12T14:45:26.681208Z"
    },
    "jupyter": {
     "outputs_hidden": false
    }
   },
   "outputs": [],
   "source": [
    "X_train, X_test, y_train, y_test = train_test_split(data_x, data_y, test_size=0.2, random_state=seed, stratify=data_y)"
   ]
  },
  {
   "cell_type": "code",
   "execution_count": 7,
   "metadata": {
    "execution": {
     "iopub.execute_input": "2022-12-12T14:45:27.091332Z",
     "iopub.status.busy": "2022-12-12T14:45:27.090499Z",
     "iopub.status.idle": "2022-12-12T14:45:27.100114Z",
     "shell.execute_reply": "2022-12-12T14:45:27.099552Z",
     "shell.execute_reply.started": "2022-12-12T14:45:27.091298Z"
    },
    "jupyter": {
     "outputs_hidden": false
    }
   },
   "outputs": [
    {
     "data": {
      "text/plain": [
       "((1943, 36, 6), (486, 36, 6), (1943,), (486,))"
      ]
     },
     "execution_count": 7,
     "metadata": {},
     "output_type": "execute_result"
    }
   ],
   "source": [
    "X_train.shape, X_test.shape, y_train.shape, y_test.shape"
   ]
  },
  {
   "cell_type": "code",
   "execution_count": 8,
   "metadata": {
    "execution": {
     "iopub.execute_input": "2022-12-12T14:45:28.705896Z",
     "iopub.status.busy": "2022-12-12T14:45:28.704896Z",
     "iopub.status.idle": "2022-12-12T14:45:28.708639Z",
     "shell.execute_reply": "2022-12-12T14:45:28.708159Z",
     "shell.execute_reply.started": "2022-12-12T14:45:28.705864Z"
    },
    "jupyter": {
     "outputs_hidden": false
    }
   },
   "outputs": [],
   "source": [
    "y_test_classes = y_test"
   ]
  },
  {
   "cell_type": "code",
   "execution_count": 9,
   "metadata": {
    "execution": {
     "iopub.execute_input": "2022-12-12T14:45:29.629903Z",
     "iopub.status.busy": "2022-12-12T14:45:29.629275Z",
     "iopub.status.idle": "2022-12-12T14:45:29.635012Z",
     "shell.execute_reply": "2022-12-12T14:45:29.634513Z",
     "shell.execute_reply.started": "2022-12-12T14:45:29.629875Z"
    },
    "jupyter": {
     "outputs_hidden": false
    }
   },
   "outputs": [
    {
     "data": {
      "text/plain": [
       "((1943, 12), (486, 12))"
      ]
     },
     "execution_count": 9,
     "metadata": {},
     "output_type": "execute_result"
    }
   ],
   "source": [
    "y_train = tfk.utils.to_categorical(y_train)\n",
    "y_test = tfk.utils.to_categorical(y_test)\n",
    "\n",
    "y_train.shape, y_test.shape"
   ]
  },
  {
   "cell_type": "code",
   "execution_count": 11,
   "metadata": {
    "execution": {
     "iopub.execute_input": "2022-12-12T14:45:30.846214Z",
     "iopub.status.busy": "2022-12-12T14:45:30.845239Z",
     "iopub.status.idle": "2022-12-12T14:45:30.850345Z",
     "shell.execute_reply": "2022-12-12T14:45:30.849646Z",
     "shell.execute_reply.started": "2022-12-12T14:45:30.846203Z"
    },
    "jupyter": {
     "outputs_hidden": false
    }
   },
   "outputs": [],
   "source": [
    "input_shape = X_train.shape[1:]\n",
    "classes = y_train.shape[-1]\n",
    "batch_size = 64\n",
    "epochs = 100"
   ]
  },
  {
   "cell_type": "markdown",
   "metadata": {},
   "source": [
    "## Model"
   ]
  },
  {
   "cell_type": "code",
   "execution_count": 21,
   "metadata": {
    "execution": {
     "iopub.execute_input": "2022-12-12T14:45:47.545016Z",
     "iopub.status.busy": "2022-12-12T14:45:47.543983Z",
     "iopub.status.idle": "2022-12-12T14:45:47.552205Z",
     "shell.execute_reply": "2022-12-12T14:45:47.551549Z",
     "shell.execute_reply.started": "2022-12-12T14:45:47.544983Z"
    },
    "jupyter": {
     "outputs_hidden": false
    }
   },
   "outputs": [],
   "source": [
    "def build_BiLSTM_classifier(hp):\n",
    "    # Build the neural network layer by layer\n",
    "    input_layer = tfkl.Input(shape=input_shape, name='Input')\n",
    "\n",
    "\n",
    "    # Feature extractor\n",
    "    cnn = tfkl.Conv1D(hp.Choice('convUnits',[128,256,512]),3,padding='same',activation='relu')(input_layer)\n",
    "    cnn = tfkl.MaxPooling1D()(cnn)\n",
    "    dropout = tfkl.Dropout(hp.Float('dropOut0',min_value=0.0,max_value=0.8,step=0.2), seed=seed)(cnn)\n",
    "    bilstm = tfkl.Bidirectional(tfkl.LSTM(hp.Choice('lstmUnits0',[128,256,512]), return_sequences=True))(dropout)\n",
    "    dropout = tfkl.Dropout(hp.Float('dropOut1',min_value=0.0,max_value=0.8,step=0.2), seed=seed)(bilstm)\n",
    "    bilstm = tfkl.Bidirectional(tfkl.LSTM(hp.Choice('lstmUnits1',[128,256,512])))(dropout)\n",
    "    dropout = tfkl.Dropout(hp.Float('dropOut2',min_value=0.0,max_value=0.8,step=0.2), seed=seed)(bilstm)\n",
    "\n",
    "    # Classifier\n",
    "    classifier = tfkl.Dense(128, activation='relu')(dropout)\n",
    "    output_layer = tfkl.Dense(classes, activation='softmax')(classifier)\n",
    "\n",
    "    # Connect input and output through the Model class\n",
    "    model = tfk.Model(inputs=input_layer, outputs=output_layer, name='model')\n",
    "    \n",
    "    lr = hp.Float(\"lr\", min_value=1e-4, max_value=1e-2, sampling=\"log\")\n",
    "    # Compile the model\n",
    "    model.compile(loss=tfk.losses.CategoricalCrossentropy(), optimizer=tfk.optimizers.Adam(lr), metrics='accuracy')\n",
    "\n",
    "    # Return the model\n",
    "    return model"
   ]
  },
  {
   "cell_type": "code",
   "execution_count": 22,
   "metadata": {
    "execution": {
     "iopub.execute_input": "2022-12-12T14:45:56.438061Z",
     "iopub.status.busy": "2022-12-12T14:45:56.437179Z",
     "iopub.status.idle": "2022-12-12T14:45:56.810772Z",
     "shell.execute_reply": "2022-12-12T14:45:56.809876Z",
     "shell.execute_reply.started": "2022-12-12T14:45:56.438029Z"
    },
    "jupyter": {
     "outputs_hidden": false
    }
   },
   "outputs": [
    {
     "ename": "TypeError",
     "evalue": "('Keyword argument not understood:', 'return_sequences')",
     "output_type": "error",
     "traceback": [
      "\u001b[1;31m---------------------------------------------------------------------------\u001b[0m",
      "\u001b[1;31mTypeError\u001b[0m                                 Traceback (most recent call last)",
      "\u001b[1;32m~\\AppData\\Local\\Temp\\ipykernel_50148\\4004105573.py\u001b[0m in \u001b[0;36m<module>\u001b[1;34m\u001b[0m\n\u001b[1;32m----> 1\u001b[1;33m \u001b[0mmodel\u001b[0m \u001b[1;33m=\u001b[0m \u001b[0mbuild_BiLSTM_classifier\u001b[0m\u001b[1;33m(\u001b[0m\u001b[1;33m)\u001b[0m\u001b[1;33m\u001b[0m\u001b[1;33m\u001b[0m\u001b[0m\n\u001b[0m\u001b[0;32m      2\u001b[0m \u001b[0mmodel\u001b[0m\u001b[1;33m.\u001b[0m\u001b[0msummary\u001b[0m\u001b[1;33m(\u001b[0m\u001b[1;33m)\u001b[0m\u001b[1;33m\u001b[0m\u001b[1;33m\u001b[0m\u001b[0m\n",
      "\u001b[1;32m~\\AppData\\Local\\Temp\\ipykernel_50148\\1901037448.py\u001b[0m in \u001b[0;36mbuild_BiLSTM_classifier\u001b[1;34m()\u001b[0m\n\u001b[0;32m      8\u001b[0m     \u001b[0mcnn\u001b[0m \u001b[1;33m=\u001b[0m \u001b[0mtfkl\u001b[0m\u001b[1;33m.\u001b[0m\u001b[0mMaxPooling1D\u001b[0m\u001b[1;33m(\u001b[0m\u001b[1;33m)\u001b[0m\u001b[1;33m(\u001b[0m\u001b[0mcnn\u001b[0m\u001b[1;33m)\u001b[0m\u001b[1;33m\u001b[0m\u001b[1;33m\u001b[0m\u001b[0m\n\u001b[0;32m      9\u001b[0m     \u001b[0mdropout\u001b[0m \u001b[1;33m=\u001b[0m \u001b[0mtfkl\u001b[0m\u001b[1;33m.\u001b[0m\u001b[0mDropout\u001b[0m\u001b[1;33m(\u001b[0m\u001b[1;36m0.1\u001b[0m\u001b[1;33m,\u001b[0m \u001b[0mseed\u001b[0m\u001b[1;33m=\u001b[0m\u001b[0mseed\u001b[0m\u001b[1;33m)\u001b[0m\u001b[1;33m(\u001b[0m\u001b[0mcnn\u001b[0m\u001b[1;33m)\u001b[0m\u001b[1;33m\u001b[0m\u001b[1;33m\u001b[0m\u001b[0m\n\u001b[1;32m---> 10\u001b[1;33m     \u001b[0mbilstm\u001b[0m \u001b[1;33m=\u001b[0m \u001b[0mtfkl\u001b[0m\u001b[1;33m.\u001b[0m\u001b[0mBidirectional\u001b[0m\u001b[1;33m(\u001b[0m\u001b[0mtfkl\u001b[0m\u001b[1;33m.\u001b[0m\u001b[0mLSTM\u001b[0m\u001b[1;33m(\u001b[0m\u001b[1;36m128\u001b[0m\u001b[1;33m)\u001b[0m\u001b[1;33m,\u001b[0m \u001b[0mreturn_sequences\u001b[0m\u001b[1;33m=\u001b[0m\u001b[1;32mTrue\u001b[0m\u001b[1;33m)\u001b[0m\u001b[1;33m(\u001b[0m\u001b[0mdropout\u001b[0m\u001b[1;33m)\u001b[0m\u001b[1;33m\u001b[0m\u001b[1;33m\u001b[0m\u001b[0m\n\u001b[0m\u001b[0;32m     11\u001b[0m     \u001b[0mdropout\u001b[0m \u001b[1;33m=\u001b[0m \u001b[0mtfkl\u001b[0m\u001b[1;33m.\u001b[0m\u001b[0mDropout\u001b[0m\u001b[1;33m(\u001b[0m\u001b[1;36m0.1\u001b[0m\u001b[1;33m,\u001b[0m \u001b[0mseed\u001b[0m\u001b[1;33m=\u001b[0m\u001b[0mseed\u001b[0m\u001b[1;33m)\u001b[0m\u001b[1;33m(\u001b[0m\u001b[0mbilstm\u001b[0m\u001b[1;33m)\u001b[0m\u001b[1;33m\u001b[0m\u001b[1;33m\u001b[0m\u001b[0m\n\u001b[0;32m     12\u001b[0m     \u001b[0mbilstm\u001b[0m \u001b[1;33m=\u001b[0m \u001b[0mtfkl\u001b[0m\u001b[1;33m.\u001b[0m\u001b[0mBidirectional\u001b[0m\u001b[1;33m(\u001b[0m\u001b[0mtfkl\u001b[0m\u001b[1;33m.\u001b[0m\u001b[0mLSTM\u001b[0m\u001b[1;33m(\u001b[0m\u001b[1;36m128\u001b[0m\u001b[1;33m)\u001b[0m\u001b[1;33m)\u001b[0m\u001b[1;33m(\u001b[0m\u001b[0mdropout\u001b[0m\u001b[1;33m)\u001b[0m\u001b[1;33m\u001b[0m\u001b[1;33m\u001b[0m\u001b[0m\n",
      "\u001b[1;32m~\\anaconda3\\lib\\site-packages\\keras\\layers\\rnn\\bidirectional.py\u001b[0m in \u001b[0;36m__init__\u001b[1;34m(self, layer, merge_mode, weights, backward_layer, **kwargs)\u001b[0m\n\u001b[0;32m    133\u001b[0m         \u001b[1;31m# copies of it we actually run.\u001b[0m\u001b[1;33m\u001b[0m\u001b[1;33m\u001b[0m\u001b[0m\n\u001b[0;32m    134\u001b[0m         \u001b[0mself\u001b[0m\u001b[1;33m.\u001b[0m\u001b[0m_setattr_tracking\u001b[0m \u001b[1;33m=\u001b[0m \u001b[1;32mFalse\u001b[0m\u001b[1;33m\u001b[0m\u001b[1;33m\u001b[0m\u001b[0m\n\u001b[1;32m--> 135\u001b[1;33m         \u001b[0msuper\u001b[0m\u001b[1;33m(\u001b[0m\u001b[1;33m)\u001b[0m\u001b[1;33m.\u001b[0m\u001b[0m__init__\u001b[0m\u001b[1;33m(\u001b[0m\u001b[0mlayer\u001b[0m\u001b[1;33m,\u001b[0m \u001b[1;33m**\u001b[0m\u001b[0mkwargs\u001b[0m\u001b[1;33m)\u001b[0m\u001b[1;33m\u001b[0m\u001b[1;33m\u001b[0m\u001b[0m\n\u001b[0m\u001b[0;32m    136\u001b[0m         \u001b[0mself\u001b[0m\u001b[1;33m.\u001b[0m\u001b[0m_setattr_tracking\u001b[0m \u001b[1;33m=\u001b[0m \u001b[1;32mTrue\u001b[0m\u001b[1;33m\u001b[0m\u001b[1;33m\u001b[0m\u001b[0m\n\u001b[0;32m    137\u001b[0m \u001b[1;33m\u001b[0m\u001b[0m\n",
      "\u001b[1;32m~\\anaconda3\\lib\\site-packages\\keras\\layers\\rnn\\base_wrapper.py\u001b[0m in \u001b[0;36m__init__\u001b[1;34m(self, layer, **kwargs)\u001b[0m\n\u001b[0;32m     43\u001b[0m         \u001b[1;32massert\u001b[0m \u001b[0misinstance\u001b[0m\u001b[1;33m(\u001b[0m\u001b[0mlayer\u001b[0m\u001b[1;33m,\u001b[0m \u001b[0mLayer\u001b[0m\u001b[1;33m)\u001b[0m\u001b[1;33m\u001b[0m\u001b[1;33m\u001b[0m\u001b[0m\n\u001b[0;32m     44\u001b[0m         \u001b[0mself\u001b[0m\u001b[1;33m.\u001b[0m\u001b[0mlayer\u001b[0m \u001b[1;33m=\u001b[0m \u001b[0mlayer\u001b[0m\u001b[1;33m\u001b[0m\u001b[1;33m\u001b[0m\u001b[0m\n\u001b[1;32m---> 45\u001b[1;33m         \u001b[0msuper\u001b[0m\u001b[1;33m(\u001b[0m\u001b[1;33m)\u001b[0m\u001b[1;33m.\u001b[0m\u001b[0m__init__\u001b[0m\u001b[1;33m(\u001b[0m\u001b[1;33m**\u001b[0m\u001b[0mkwargs\u001b[0m\u001b[1;33m)\u001b[0m\u001b[1;33m\u001b[0m\u001b[1;33m\u001b[0m\u001b[0m\n\u001b[0m\u001b[0;32m     46\u001b[0m \u001b[1;33m\u001b[0m\u001b[0m\n\u001b[0;32m     47\u001b[0m     \u001b[1;32mdef\u001b[0m \u001b[0mbuild\u001b[0m\u001b[1;33m(\u001b[0m\u001b[0mself\u001b[0m\u001b[1;33m,\u001b[0m \u001b[0minput_shape\u001b[0m\u001b[1;33m=\u001b[0m\u001b[1;32mNone\u001b[0m\u001b[1;33m)\u001b[0m\u001b[1;33m:\u001b[0m\u001b[1;33m\u001b[0m\u001b[1;33m\u001b[0m\u001b[0m\n",
      "\u001b[1;32m~\\anaconda3\\lib\\site-packages\\tensorflow\\python\\trackable\\base.py\u001b[0m in \u001b[0;36m_method_wrapper\u001b[1;34m(self, *args, **kwargs)\u001b[0m\n\u001b[0;32m    203\u001b[0m     \u001b[0mself\u001b[0m\u001b[1;33m.\u001b[0m\u001b[0m_self_setattr_tracking\u001b[0m \u001b[1;33m=\u001b[0m \u001b[1;32mFalse\u001b[0m  \u001b[1;31m# pylint: disable=protected-access\u001b[0m\u001b[1;33m\u001b[0m\u001b[1;33m\u001b[0m\u001b[0m\n\u001b[0;32m    204\u001b[0m     \u001b[1;32mtry\u001b[0m\u001b[1;33m:\u001b[0m\u001b[1;33m\u001b[0m\u001b[1;33m\u001b[0m\u001b[0m\n\u001b[1;32m--> 205\u001b[1;33m       \u001b[0mresult\u001b[0m \u001b[1;33m=\u001b[0m \u001b[0mmethod\u001b[0m\u001b[1;33m(\u001b[0m\u001b[0mself\u001b[0m\u001b[1;33m,\u001b[0m \u001b[1;33m*\u001b[0m\u001b[0margs\u001b[0m\u001b[1;33m,\u001b[0m \u001b[1;33m**\u001b[0m\u001b[0mkwargs\u001b[0m\u001b[1;33m)\u001b[0m\u001b[1;33m\u001b[0m\u001b[1;33m\u001b[0m\u001b[0m\n\u001b[0m\u001b[0;32m    206\u001b[0m     \u001b[1;32mfinally\u001b[0m\u001b[1;33m:\u001b[0m\u001b[1;33m\u001b[0m\u001b[1;33m\u001b[0m\u001b[0m\n\u001b[0;32m    207\u001b[0m       \u001b[0mself\u001b[0m\u001b[1;33m.\u001b[0m\u001b[0m_self_setattr_tracking\u001b[0m \u001b[1;33m=\u001b[0m \u001b[0mprevious_value\u001b[0m  \u001b[1;31m# pylint: disable=protected-access\u001b[0m\u001b[1;33m\u001b[0m\u001b[1;33m\u001b[0m\u001b[0m\n",
      "\u001b[1;32m~\\anaconda3\\lib\\site-packages\\keras\\engine\\base_layer.py\u001b[0m in \u001b[0;36m__init__\u001b[1;34m(self, trainable, name, dtype, dynamic, **kwargs)\u001b[0m\n\u001b[0;32m    333\u001b[0m         }\n\u001b[0;32m    334\u001b[0m         \u001b[1;31m# Validate optional keyword arguments.\u001b[0m\u001b[1;33m\u001b[0m\u001b[1;33m\u001b[0m\u001b[0m\n\u001b[1;32m--> 335\u001b[1;33m         \u001b[0mgeneric_utils\u001b[0m\u001b[1;33m.\u001b[0m\u001b[0mvalidate_kwargs\u001b[0m\u001b[1;33m(\u001b[0m\u001b[0mkwargs\u001b[0m\u001b[1;33m,\u001b[0m \u001b[0mallowed_kwargs\u001b[0m\u001b[1;33m)\u001b[0m\u001b[1;33m\u001b[0m\u001b[1;33m\u001b[0m\u001b[0m\n\u001b[0m\u001b[0;32m    336\u001b[0m \u001b[1;33m\u001b[0m\u001b[0m\n\u001b[0;32m    337\u001b[0m         \u001b[1;31m# Mutable properties\u001b[0m\u001b[1;33m\u001b[0m\u001b[1;33m\u001b[0m\u001b[0m\n",
      "\u001b[1;32m~\\anaconda3\\lib\\site-packages\\keras\\utils\\generic_utils.py\u001b[0m in \u001b[0;36mvalidate_kwargs\u001b[1;34m(kwargs, allowed_kwargs, error_message)\u001b[0m\n\u001b[0;32m   1267\u001b[0m     \u001b[1;32mfor\u001b[0m \u001b[0mkwarg\u001b[0m \u001b[1;32min\u001b[0m \u001b[0mkwargs\u001b[0m\u001b[1;33m:\u001b[0m\u001b[1;33m\u001b[0m\u001b[1;33m\u001b[0m\u001b[0m\n\u001b[0;32m   1268\u001b[0m         \u001b[1;32mif\u001b[0m \u001b[0mkwarg\u001b[0m \u001b[1;32mnot\u001b[0m \u001b[1;32min\u001b[0m \u001b[0mallowed_kwargs\u001b[0m\u001b[1;33m:\u001b[0m\u001b[1;33m\u001b[0m\u001b[1;33m\u001b[0m\u001b[0m\n\u001b[1;32m-> 1269\u001b[1;33m             \u001b[1;32mraise\u001b[0m \u001b[0mTypeError\u001b[0m\u001b[1;33m(\u001b[0m\u001b[0merror_message\u001b[0m\u001b[1;33m,\u001b[0m \u001b[0mkwarg\u001b[0m\u001b[1;33m)\u001b[0m\u001b[1;33m\u001b[0m\u001b[1;33m\u001b[0m\u001b[0m\n\u001b[0m\u001b[0;32m   1270\u001b[0m \u001b[1;33m\u001b[0m\u001b[0m\n\u001b[0;32m   1271\u001b[0m \u001b[1;33m\u001b[0m\u001b[0m\n",
      "\u001b[1;31mTypeError\u001b[0m: ('Keyword argument not understood:', 'return_sequences')"
     ]
    }
   ],
   "source": [
    "model = build_BiLSTM_classifier()\n",
    "model.summary()"
   ]
  },
  {
   "cell_type": "markdown",
   "metadata": {},
   "source": [
    "### Training"
   ]
  },
  {
   "cell_type": "code",
   "execution_count": 14,
   "metadata": {
    "execution": {
     "iopub.execute_input": "2022-12-12T14:47:49.257482Z",
     "iopub.status.busy": "2022-12-12T14:47:49.256272Z",
     "iopub.status.idle": "2022-12-12T14:47:50.384035Z",
     "shell.execute_reply": "2022-12-12T14:47:50.383321Z",
     "shell.execute_reply.started": "2022-12-12T14:47:49.257448Z"
    }
   },
   "outputs": [
    {
     "name": "stdout",
     "output_type": "stream",
     "text": [
      "Search space summary\n",
      "Default search space size: 5\n",
      "convUnits0 (Choice)\n",
      "{'default': 128, 'conditions': [], 'values': [128, 256, 512], 'ordered': True}\n",
      "convUnits1 (Choice)\n",
      "{'default': 128, 'conditions': [], 'values': [128, 256, 512], 'ordered': True}\n",
      "convUnits2 (Choice)\n",
      "{'default': 128, 'conditions': [], 'values': [128, 256, 512], 'ordered': True}\n",
      "convUnits3 (Choice)\n",
      "{'default': 128, 'conditions': [], 'values': [128, 256, 512], 'ordered': True}\n",
      "lr (Float)\n",
      "{'default': 0.0001, 'conditions': [], 'min_value': 0.0001, 'max_value': 0.01, 'step': None, 'sampling': 'log'}\n"
     ]
    }
   ],
   "source": [
    "tuner = keras_tuner.BayesianOptimization(\n",
    "    hypermodel=build_BiLSTM_classifier,\n",
    "    objective=\"val_accuracy\",\n",
    "    max_trials=30,\n",
    "    executions_per_trial=1,\n",
    "    overwrite=False,\n",
    "    directory=\"hp_tuning\",\n",
    "    project_name=\"hw1_lstm_bayesian_1.0\",\n",
    ")\n",
    "tuner.search_space_summary()\n"
   ]
  },
  {
   "cell_type": "code",
   "execution_count": 16,
   "metadata": {
    "execution": {
     "iopub.execute_input": "2022-12-12T14:48:04.832434Z",
     "iopub.status.busy": "2022-12-12T14:48:04.832099Z"
    },
    "scrolled": true
   },
   "outputs": [
    {
     "name": "stdout",
     "output_type": "stream",
     "text": [
      "Trial 30 Complete [00h 02m 35s]\n",
      "val_accuracy: 0.4623287618160248\n",
      "\n",
      "Best val_accuracy So Far: 0.6952054500579834\n",
      "Total elapsed time: 01h 35m 05s\n",
      "INFO:tensorflow:Oracle triggered exit\n"
     ]
    }
   ],
   "source": [
    "tuner.search(x = X_train,\n",
    "    y = y_train,\n",
    "    batch_size = batch_size,\n",
    "    epochs = epochs,\n",
    "    validation_split = 0.15,\n",
    "    callbacks = [\n",
    "        tfk.callbacks.EarlyStopping(monitor='val_accuracy', mode='max', patience=10, restore_best_weights=True),\n",
    "        tfk.callbacks.ReduceLROnPlateau(monitor='val_accuracy', mode='max', patience=5, factor=0.5, min_lr=1e-5)\n",
    "    ])\n"
   ]
  },
  {
   "cell_type": "code",
   "execution_count": 15,
   "metadata": {
    "execution": {
     "iopub.execute_input": "2022-12-12T13:24:58.723502Z",
     "iopub.status.busy": "2022-12-12T13:24:58.722558Z",
     "iopub.status.idle": "2022-12-12T13:25:20.982939Z",
     "shell.execute_reply": "2022-12-12T13:25:20.981960Z",
     "shell.execute_reply.started": "2022-12-12T13:24:58.723472Z"
    }
   },
   "outputs": [
    {
     "name": "stdout",
     "output_type": "stream",
     "text": [
      "WARNING:tensorflow:Detecting that an object or model or tf.train.Checkpoint is being deleted with unrestored values. See the following logs for the specific values in question. To silence these warnings, use `status.expect_partial()`. See https://www.tensorflow.org/api_docs/python/tf/train/Checkpoint#restorefor details about the status object returned by the restore function.\n"
     ]
    },
    {
     "name": "stderr",
     "output_type": "stream",
     "text": [
      "WARNING:tensorflow:Detecting that an object or model or tf.train.Checkpoint is being deleted with unrestored values. See the following logs for the specific values in question. To silence these warnings, use `status.expect_partial()`. See https://www.tensorflow.org/api_docs/python/tf/train/Checkpoint#restorefor details about the status object returned by the restore function.\n"
     ]
    },
    {
     "name": "stdout",
     "output_type": "stream",
     "text": [
      "WARNING:tensorflow:Value in checkpoint could not be found in the restored object: (root).optimizer.iter\n"
     ]
    },
    {
     "name": "stderr",
     "output_type": "stream",
     "text": [
      "WARNING:tensorflow:Value in checkpoint could not be found in the restored object: (root).optimizer.iter\n"
     ]
    },
    {
     "name": "stdout",
     "output_type": "stream",
     "text": [
      "WARNING:tensorflow:Value in checkpoint could not be found in the restored object: (root).optimizer.beta_1\n"
     ]
    },
    {
     "name": "stderr",
     "output_type": "stream",
     "text": [
      "WARNING:tensorflow:Value in checkpoint could not be found in the restored object: (root).optimizer.beta_1\n"
     ]
    },
    {
     "name": "stdout",
     "output_type": "stream",
     "text": [
      "WARNING:tensorflow:Value in checkpoint could not be found in the restored object: (root).optimizer.beta_2\n"
     ]
    },
    {
     "name": "stderr",
     "output_type": "stream",
     "text": [
      "WARNING:tensorflow:Value in checkpoint could not be found in the restored object: (root).optimizer.beta_2\n"
     ]
    },
    {
     "name": "stdout",
     "output_type": "stream",
     "text": [
      "WARNING:tensorflow:Value in checkpoint could not be found in the restored object: (root).optimizer.decay\n"
     ]
    },
    {
     "name": "stderr",
     "output_type": "stream",
     "text": [
      "WARNING:tensorflow:Value in checkpoint could not be found in the restored object: (root).optimizer.decay\n"
     ]
    },
    {
     "name": "stdout",
     "output_type": "stream",
     "text": [
      "WARNING:tensorflow:Value in checkpoint could not be found in the restored object: (root).optimizer.learning_rate\n"
     ]
    },
    {
     "name": "stderr",
     "output_type": "stream",
     "text": [
      "WARNING:tensorflow:Value in checkpoint could not be found in the restored object: (root).optimizer.learning_rate\n"
     ]
    },
    {
     "name": "stdout",
     "output_type": "stream",
     "text": [
      "WARNING:tensorflow:Detecting that an object or model or tf.train.Checkpoint is being deleted with unrestored values. See the following logs for the specific values in question. To silence these warnings, use `status.expect_partial()`. See https://www.tensorflow.org/api_docs/python/tf/train/Checkpoint#restorefor details about the status object returned by the restore function.\n"
     ]
    },
    {
     "name": "stderr",
     "output_type": "stream",
     "text": [
      "WARNING:tensorflow:Detecting that an object or model or tf.train.Checkpoint is being deleted with unrestored values. See the following logs for the specific values in question. To silence these warnings, use `status.expect_partial()`. See https://www.tensorflow.org/api_docs/python/tf/train/Checkpoint#restorefor details about the status object returned by the restore function.\n"
     ]
    },
    {
     "name": "stdout",
     "output_type": "stream",
     "text": [
      "WARNING:tensorflow:Value in checkpoint could not be found in the restored object: (root).optimizer.iter\n"
     ]
    },
    {
     "name": "stderr",
     "output_type": "stream",
     "text": [
      "WARNING:tensorflow:Value in checkpoint could not be found in the restored object: (root).optimizer.iter\n"
     ]
    },
    {
     "name": "stdout",
     "output_type": "stream",
     "text": [
      "WARNING:tensorflow:Value in checkpoint could not be found in the restored object: (root).optimizer.beta_1\n"
     ]
    },
    {
     "name": "stderr",
     "output_type": "stream",
     "text": [
      "WARNING:tensorflow:Value in checkpoint could not be found in the restored object: (root).optimizer.beta_1\n"
     ]
    },
    {
     "name": "stdout",
     "output_type": "stream",
     "text": [
      "WARNING:tensorflow:Value in checkpoint could not be found in the restored object: (root).optimizer.beta_2\n"
     ]
    },
    {
     "name": "stderr",
     "output_type": "stream",
     "text": [
      "WARNING:tensorflow:Value in checkpoint could not be found in the restored object: (root).optimizer.beta_2\n"
     ]
    },
    {
     "name": "stdout",
     "output_type": "stream",
     "text": [
      "WARNING:tensorflow:Value in checkpoint could not be found in the restored object: (root).optimizer.decay\n"
     ]
    },
    {
     "name": "stderr",
     "output_type": "stream",
     "text": [
      "WARNING:tensorflow:Value in checkpoint could not be found in the restored object: (root).optimizer.decay\n"
     ]
    },
    {
     "name": "stdout",
     "output_type": "stream",
     "text": [
      "WARNING:tensorflow:Value in checkpoint could not be found in the restored object: (root).optimizer.learning_rate\n"
     ]
    },
    {
     "name": "stderr",
     "output_type": "stream",
     "text": [
      "WARNING:tensorflow:Value in checkpoint could not be found in the restored object: (root).optimizer.learning_rate\n"
     ]
    },
    {
     "name": "stdout",
     "output_type": "stream",
     "text": [
      "Model: \"model\"\n",
      "_________________________________________________________________\n",
      " Layer (type)                Output Shape              Param #   \n",
      "=================================================================\n",
      " Input (InputLayer)          [(None, 36, 6)]           0         \n",
      "                                                                 \n",
      " conv1d (Conv1D)             (None, 36, 128)           2432      \n",
      "                                                                 \n",
      " max_pooling1d (MaxPooling1D  (None, 18, 128)          0         \n",
      " )                                                               \n",
      "                                                                 \n",
      " dropout (Dropout)           (None, 18, 128)           0         \n",
      "                                                                 \n",
      " bidirectional (Bidirectiona  (None, 18, 256)          263168    \n",
      " l)                                                              \n",
      "                                                                 \n",
      " dropout_1 (Dropout)         (None, 18, 256)           0         \n",
      "                                                                 \n",
      " bidirectional_1 (Bidirectio  (None, 512)              1050624   \n",
      " nal)                                                            \n",
      "                                                                 \n",
      " dropout_2 (Dropout)         (None, 512)               0         \n",
      "                                                                 \n",
      " dense (Dense)               (None, 128)               65664     \n",
      "                                                                 \n",
      " dense_1 (Dense)             (None, 12)                1548      \n",
      "                                                                 \n",
      "=================================================================\n",
      "Total params: 1,383,436\n",
      "Trainable params: 1,383,436\n",
      "Non-trainable params: 0\n",
      "_________________________________________________________________\n"
     ]
    },
    {
     "name": "stderr",
     "output_type": "stream",
     "text": [
      "WARNING:absl:Function `_wrapped_model` contains input name(s) Input with unsupported characters which will be renamed to input in the SavedModel.\n",
      "WARNING:absl:Found untraced functions such as _jit_compiled_convolution_op, lstm_cell_1_layer_call_fn, lstm_cell_1_layer_call_and_return_conditional_losses, lstm_cell_2_layer_call_fn, lstm_cell_2_layer_call_and_return_conditional_losses while saving (showing 5 of 9). These functions will not be directly callable after loading.\n"
     ]
    },
    {
     "name": "stdout",
     "output_type": "stream",
     "text": [
      "INFO:tensorflow:Assets written to: tuned_BiLSTM_1.0/assets\n"
     ]
    },
    {
     "name": "stderr",
     "output_type": "stream",
     "text": [
      "INFO:tensorflow:Assets written to: tuned_BiLSTM_1.0/assets\n"
     ]
    }
   ],
   "source": [
    "# Get the top 2 models.\n",
    "models = tuner.get_best_models(num_models=2)\n",
    "best_model = models[0]\n",
    "# Build the model.\n",
    "# Needed for `Sequential` without specified `input_shape`.\n",
    "best_model.build(input_shape=input_shape)\n",
    "best_model.summary()\n",
    "best_model.save(\"tuned_BiLSTM_1.0\")"
   ]
  },
  {
   "cell_type": "code",
   "execution_count": 16,
   "metadata": {
    "execution": {
     "iopub.execute_input": "2022-12-12T13:25:20.986866Z",
     "iopub.status.busy": "2022-12-12T13:25:20.986609Z",
     "iopub.status.idle": "2022-12-12T13:25:20.992161Z",
     "shell.execute_reply": "2022-12-12T13:25:20.991473Z",
     "shell.execute_reply.started": "2022-12-12T13:25:20.986845Z"
    }
   },
   "outputs": [
    {
     "name": "stdout",
     "output_type": "stream",
     "text": [
      "Results summary\n",
      "Results in hp_tuning/hw1_lstm_1.0\n",
      "Showing 10 best trials\n",
      "<keras_tuner.engine.objective.Objective object at 0x7fcf481717c0>\n",
      "Trial summary\n",
      "Hyperparameters:\n",
      "convUnits: 128\n",
      "dropOut0: 0.2\n",
      "lstmUnits0: 128\n",
      "dropOut1: 0.2\n",
      "lstmUnits1: 256\n",
      "dropOut2: 0.4\n",
      "lr: 0.00011629110548265889\n",
      "Score: 0.7128205299377441\n",
      "Trial summary\n",
      "Hyperparameters:\n",
      "convUnits: 256\n",
      "dropOut0: 0.0\n",
      "lstmUnits0: 256\n",
      "dropOut1: 0.2\n",
      "lstmUnits1: 512\n",
      "dropOut2: 0.4\n",
      "lr: 0.00014274834460539245\n",
      "Score: 0.7076923251152039\n",
      "Trial summary\n",
      "Hyperparameters:\n",
      "convUnits: 128\n",
      "dropOut0: 0.0\n",
      "lstmUnits0: 128\n",
      "dropOut1: 0.6000000000000001\n",
      "lstmUnits1: 512\n",
      "dropOut2: 0.2\n",
      "lr: 0.0006411826947988156\n",
      "Score: 0.7025641202926636\n",
      "Trial summary\n",
      "Hyperparameters:\n",
      "convUnits: 256\n",
      "dropOut0: 0.4\n",
      "lstmUnits0: 512\n",
      "dropOut1: 0.6000000000000001\n",
      "lstmUnits1: 512\n",
      "dropOut2: 0.0\n",
      "lr: 0.0004957077012922462\n",
      "Score: 0.6974359154701233\n",
      "Trial summary\n",
      "Hyperparameters:\n",
      "convUnits: 512\n",
      "dropOut0: 0.2\n",
      "lstmUnits0: 128\n",
      "dropOut1: 0.6000000000000001\n",
      "lstmUnits1: 128\n",
      "dropOut2: 0.4\n",
      "lr: 0.00013417288729783997\n",
      "Score: 0.6974359154701233\n",
      "Trial summary\n",
      "Hyperparameters:\n",
      "convUnits: 256\n",
      "dropOut0: 0.4\n",
      "lstmUnits0: 512\n",
      "dropOut1: 0.4\n",
      "lstmUnits1: 128\n",
      "dropOut2: 0.4\n",
      "lr: 0.00017134710454828187\n",
      "Score: 0.6974359154701233\n",
      "Trial summary\n",
      "Hyperparameters:\n",
      "convUnits: 256\n",
      "dropOut0: 0.6000000000000001\n",
      "lstmUnits0: 512\n",
      "dropOut1: 0.2\n",
      "lstmUnits1: 512\n",
      "dropOut2: 0.6000000000000001\n",
      "lr: 0.0017351560599043663\n",
      "Score: 0.6974359154701233\n",
      "Trial summary\n",
      "Hyperparameters:\n",
      "convUnits: 256\n",
      "dropOut0: 0.0\n",
      "lstmUnits0: 256\n",
      "dropOut1: 0.0\n",
      "lstmUnits1: 512\n",
      "dropOut2: 0.0\n",
      "lr: 0.0010776294150595107\n",
      "Score: 0.692307710647583\n",
      "Trial summary\n",
      "Hyperparameters:\n",
      "convUnits: 128\n",
      "dropOut0: 0.6000000000000001\n",
      "lstmUnits0: 512\n",
      "dropOut1: 0.6000000000000001\n",
      "lstmUnits1: 512\n",
      "dropOut2: 0.6000000000000001\n",
      "lr: 0.000989217786254881\n",
      "Score: 0.692307710647583\n",
      "Trial summary\n",
      "Hyperparameters:\n",
      "convUnits: 256\n",
      "dropOut0: 0.4\n",
      "lstmUnits0: 512\n",
      "dropOut1: 0.0\n",
      "lstmUnits1: 512\n",
      "dropOut2: 0.4\n",
      "lr: 0.0012873894305649594\n",
      "Score: 0.692307710647583\n"
     ]
    }
   ],
   "source": [
    "tuner.results_summary()\n"
   ]
  },
  {
   "cell_type": "code",
   "execution_count": 29,
   "metadata": {
    "jupyter": {
     "outputs_hidden": false
    }
   },
   "outputs": [
    {
     "name": "stdout",
     "output_type": "stream",
     "text": [
      "Epoch 1/200\n"
     ]
    },
    {
     "name": "stderr",
     "output_type": "stream",
     "text": [
      "2022-12-12 09:37:48.824624: I tensorflow/core/grappler/optimizers/custom_graph_optimizer_registry.cc:114] Plugin optimizer for device_type GPU is enabled.\n",
      "2022-12-12 09:37:49.101899: I tensorflow/core/grappler/optimizers/custom_graph_optimizer_registry.cc:114] Plugin optimizer for device_type GPU is enabled.\n",
      "2022-12-12 09:37:49.113756: I tensorflow/core/grappler/optimizers/custom_graph_optimizer_registry.cc:114] Plugin optimizer for device_type GPU is enabled.\n",
      "2022-12-12 09:37:49.218637: I tensorflow/core/grappler/optimizers/custom_graph_optimizer_registry.cc:114] Plugin optimizer for device_type GPU is enabled.\n",
      "2022-12-12 09:37:49.229759: I tensorflow/core/grappler/optimizers/custom_graph_optimizer_registry.cc:114] Plugin optimizer for device_type GPU is enabled.\n",
      "2022-12-12 09:37:49.384484: I tensorflow/core/grappler/optimizers/custom_graph_optimizer_registry.cc:114] Plugin optimizer for device_type GPU is enabled.\n",
      "2022-12-12 09:37:49.400242: I tensorflow/core/grappler/optimizers/custom_graph_optimizer_registry.cc:114] Plugin optimizer for device_type GPU is enabled.\n",
      "2022-12-12 09:37:49.580661: I tensorflow/core/grappler/optimizers/custom_graph_optimizer_registry.cc:114] Plugin optimizer for device_type GPU is enabled.\n"
     ]
    },
    {
     "name": "stdout",
     "output_type": "stream",
     "text": [
      " 1/55 [..............................] - ETA: 3:20 - loss: 2.5468 - accuracy: 0.0938"
     ]
    },
    {
     "name": "stderr",
     "output_type": "stream",
     "text": [
      "2022-12-12 09:37:49.599812: I tensorflow/core/grappler/optimizers/custom_graph_optimizer_registry.cc:114] Plugin optimizer for device_type GPU is enabled.\n"
     ]
    },
    {
     "name": "stdout",
     "output_type": "stream",
     "text": [
      "55/55 [==============================] - ETA: 0s - loss: 1.7571 - accuracy: 0.3987"
     ]
    },
    {
     "name": "stderr",
     "output_type": "stream",
     "text": [
      "2022-12-12 09:37:53.877640: I tensorflow/core/grappler/optimizers/custom_graph_optimizer_registry.cc:114] Plugin optimizer for device_type GPU is enabled.\n",
      "2022-12-12 09:37:53.976662: I tensorflow/core/grappler/optimizers/custom_graph_optimizer_registry.cc:114] Plugin optimizer for device_type GPU is enabled.\n",
      "2022-12-12 09:37:53.985540: I tensorflow/core/grappler/optimizers/custom_graph_optimizer_registry.cc:114] Plugin optimizer for device_type GPU is enabled.\n",
      "2022-12-12 09:37:54.072953: I tensorflow/core/grappler/optimizers/custom_graph_optimizer_registry.cc:114] Plugin optimizer for device_type GPU is enabled.\n",
      "2022-12-12 09:37:54.081474: I tensorflow/core/grappler/optimizers/custom_graph_optimizer_registry.cc:114] Plugin optimizer for device_type GPU is enabled.\n"
     ]
    },
    {
     "name": "stdout",
     "output_type": "stream",
     "text": [
      "55/55 [==============================] - 8s 88ms/step - loss: 1.7571 - accuracy: 0.3987 - val_loss: 1.4441 - val_accuracy: 0.4462 - lr: 0.0010\n",
      "Epoch 2/200\n",
      "55/55 [==============================] - 3s 57ms/step - loss: 1.4297 - accuracy: 0.5029 - val_loss: 1.2156 - val_accuracy: 0.5590 - lr: 0.0010\n",
      "Epoch 3/200\n",
      "55/55 [==============================] - 3s 54ms/step - loss: 1.2806 - accuracy: 0.5572 - val_loss: 1.1782 - val_accuracy: 0.5179 - lr: 0.0010\n",
      "Epoch 4/200\n",
      "55/55 [==============================] - 3s 56ms/step - loss: 1.2245 - accuracy: 0.5715 - val_loss: 1.1765 - val_accuracy: 0.5744 - lr: 0.0010\n",
      "Epoch 5/200\n",
      "55/55 [==============================] - 3s 56ms/step - loss: 1.1382 - accuracy: 0.6041 - val_loss: 1.0690 - val_accuracy: 0.6154 - lr: 0.0010\n",
      "Epoch 6/200\n",
      "55/55 [==============================] - 3s 55ms/step - loss: 1.1163 - accuracy: 0.6087 - val_loss: 1.0514 - val_accuracy: 0.6513 - lr: 0.0010\n",
      "Epoch 7/200\n",
      "55/55 [==============================] - 3s 54ms/step - loss: 1.0618 - accuracy: 0.6339 - val_loss: 1.0294 - val_accuracy: 0.6103 - lr: 0.0010\n",
      "Epoch 8/200\n",
      "55/55 [==============================] - 3s 55ms/step - loss: 1.0639 - accuracy: 0.6299 - val_loss: 1.1703 - val_accuracy: 0.5897 - lr: 0.0010\n",
      "Epoch 9/200\n",
      "55/55 [==============================] - 3s 54ms/step - loss: 1.0441 - accuracy: 0.6339 - val_loss: 1.0300 - val_accuracy: 0.6308 - lr: 0.0010\n",
      "Epoch 10/200\n",
      "55/55 [==============================] - 3s 53ms/step - loss: 1.0112 - accuracy: 0.6327 - val_loss: 1.0383 - val_accuracy: 0.6410 - lr: 0.0010\n",
      "Epoch 11/200\n",
      "55/55 [==============================] - 3s 53ms/step - loss: 0.9416 - accuracy: 0.6613 - val_loss: 1.0832 - val_accuracy: 0.5897 - lr: 0.0010\n",
      "Epoch 12/200\n",
      "55/55 [==============================] - 3s 52ms/step - loss: 0.8696 - accuracy: 0.6773 - val_loss: 0.9765 - val_accuracy: 0.6513 - lr: 5.0000e-04\n",
      "Epoch 13/200\n",
      "55/55 [==============================] - 3s 52ms/step - loss: 0.7977 - accuracy: 0.7140 - val_loss: 1.0050 - val_accuracy: 0.6513 - lr: 5.0000e-04\n",
      "Epoch 14/200\n",
      "55/55 [==============================] - 3s 52ms/step - loss: 0.7366 - accuracy: 0.7334 - val_loss: 1.0442 - val_accuracy: 0.6256 - lr: 5.0000e-04\n",
      "Epoch 15/200\n",
      "55/55 [==============================] - 3s 52ms/step - loss: 0.7246 - accuracy: 0.7357 - val_loss: 1.0057 - val_accuracy: 0.6564 - lr: 5.0000e-04\n",
      "Epoch 16/200\n",
      "55/55 [==============================] - 3s 52ms/step - loss: 0.7077 - accuracy: 0.7357 - val_loss: 1.0458 - val_accuracy: 0.6462 - lr: 5.0000e-04\n",
      "Epoch 17/200\n",
      "55/55 [==============================] - 3s 52ms/step - loss: 0.6882 - accuracy: 0.7586 - val_loss: 1.0445 - val_accuracy: 0.6308 - lr: 5.0000e-04\n",
      "Epoch 18/200\n",
      "55/55 [==============================] - 3s 54ms/step - loss: 0.6418 - accuracy: 0.7637 - val_loss: 1.0462 - val_accuracy: 0.6513 - lr: 5.0000e-04\n",
      "Epoch 19/200\n",
      "55/55 [==============================] - 3s 57ms/step - loss: 0.6247 - accuracy: 0.7695 - val_loss: 1.0501 - val_accuracy: 0.6821 - lr: 5.0000e-04\n",
      "Epoch 20/200\n",
      "55/55 [==============================] - 3s 59ms/step - loss: 0.5913 - accuracy: 0.7797 - val_loss: 1.0918 - val_accuracy: 0.6051 - lr: 5.0000e-04\n",
      "Epoch 21/200\n",
      "55/55 [==============================] - 3s 55ms/step - loss: 0.5846 - accuracy: 0.7889 - val_loss: 1.0835 - val_accuracy: 0.6513 - lr: 5.0000e-04\n",
      "Epoch 22/200\n",
      "55/55 [==============================] - 3s 55ms/step - loss: 0.5237 - accuracy: 0.8106 - val_loss: 1.0769 - val_accuracy: 0.6513 - lr: 5.0000e-04\n",
      "Epoch 23/200\n",
      "55/55 [==============================] - 3s 53ms/step - loss: 0.5273 - accuracy: 0.8089 - val_loss: 1.1463 - val_accuracy: 0.6000 - lr: 5.0000e-04\n",
      "Epoch 24/200\n",
      "55/55 [==============================] - 3s 55ms/step - loss: 0.4673 - accuracy: 0.8272 - val_loss: 1.1541 - val_accuracy: 0.6051 - lr: 5.0000e-04\n",
      "Epoch 25/200\n",
      "55/55 [==============================] - 3s 53ms/step - loss: 0.4053 - accuracy: 0.8513 - val_loss: 1.1146 - val_accuracy: 0.6359 - lr: 2.5000e-04\n",
      "Epoch 26/200\n",
      "55/55 [==============================] - 3s 53ms/step - loss: 0.3468 - accuracy: 0.8719 - val_loss: 1.1671 - val_accuracy: 0.6154 - lr: 2.5000e-04\n",
      "Epoch 27/200\n",
      "55/55 [==============================] - 3s 53ms/step - loss: 0.2951 - accuracy: 0.8936 - val_loss: 1.2491 - val_accuracy: 0.6154 - lr: 2.5000e-04\n",
      "Epoch 28/200\n",
      "55/55 [==============================] - 3s 52ms/step - loss: 0.2616 - accuracy: 0.9096 - val_loss: 1.1228 - val_accuracy: 0.6462 - lr: 2.5000e-04\n",
      "Epoch 29/200\n",
      "55/55 [==============================] - 3s 52ms/step - loss: 0.2398 - accuracy: 0.9199 - val_loss: 1.2132 - val_accuracy: 0.6205 - lr: 2.5000e-04\n"
     ]
    }
   ],
   "source": [
    "# Train the model\n",
    "history = model.fit(\n",
    "    x = X_train,\n",
    "    y = y_train,\n",
    "    batch_size = batch_size,\n",
    "    epochs = epochs,\n",
    "    validation_split = 0.1,\n",
    "    callbacks = [\n",
    "        tfk.callbacks.EarlyStopping(monitor='val_accuracy', mode='max', patience=10, restore_best_weights=True),\n",
    "        tfk.callbacks.ReduceLROnPlateau(monitor='val_accuracy', mode='max', patience=5, factor=0.5, min_lr=1e-5)\n",
    "    ]\n",
    ").history"
   ]
  },
  {
   "cell_type": "markdown",
   "metadata": {},
   "source": [
    "## Plot"
   ]
  },
  {
   "cell_type": "code",
   "execution_count": 30,
   "metadata": {
    "jupyter": {
     "outputs_hidden": false
    }
   },
   "outputs": [
    {
     "data": {
      "image/png": "[encoded data removed]",
      "text/plain": [
       "<Figure size 1700x400 with 1 Axes>"
      ]
     },
     "metadata": {},
     "output_type": "display_data"
    },
    {
     "data": {
      "image/png": "[encoded data removed]",
      "text/plain": [
       "<Figure size 1700x400 with 1 Axes>"
      ]
     },
     "metadata": {},
     "output_type": "display_data"
    },
    {
     "data": {
      "image/png": "[encoded data removed]",
      "text/plain": [
       "<Figure size 1800x300 with 1 Axes>"
      ]
     },
     "metadata": {},
     "output_type": "display_data"
    }
   ],
   "source": [
    "best_epoch = np.argmax(history['val_accuracy'])\n",
    "plt.figure(figsize=(17,4))\n",
    "plt.plot(history['loss'], label='Training loss', alpha=.8, color='#ff7f0e')\n",
    "plt.plot(history['val_loss'], label='Validation loss', alpha=.9, color='#5a9aa5')\n",
    "plt.axvline(x=best_epoch, label='Best epoch', alpha=.3, ls='--', color='#5a9aa5')\n",
    "plt.title('Categorical Crossentropy')\n",
    "plt.legend()\n",
    "plt.grid(alpha=.3)\n",
    "plt.show()\n",
    "\n",
    "plt.figure(figsize=(17,4))\n",
    "plt.plot(history['accuracy'], label='Training accuracy', alpha=.8, color='#ff7f0e')\n",
    "plt.plot(history['val_accuracy'], label='Validation accuracy', alpha=.9, color='#5a9aa5')\n",
    "plt.axvline(x=best_epoch, label='Best epoch', alpha=.3, ls='--', color='#5a9aa5')\n",
    "plt.title('Accuracy')\n",
    "plt.legend()\n",
    "plt.grid(alpha=.3)\n",
    "plt.show()\n",
    "\n",
    "\n",
    "plt.figure(figsize=(18,3))\n",
    "plt.plot(history['lr'], label='Learning Rate', alpha=.8, color='#ff7f0e')\n",
    "plt.axvline(x=best_epoch, label='Best epoch', alpha=.3, ls='--', color='#5a9aa5')\n",
    "plt.legend()\n",
    "plt.grid(alpha=.3)\n",
    "plt.show()"
   ]
  },
  {
   "cell_type": "markdown",
   "metadata": {},
   "source": [
    "## Confusion Matrix"
   ]
  },
  {
   "cell_type": "code",
   "execution_count": 21,
   "metadata": {
    "execution": {
     "iopub.execute_input": "2022-12-12T13:26:44.983020Z",
     "iopub.status.busy": "2022-12-12T13:26:44.982253Z",
     "iopub.status.idle": "2022-12-12T13:26:45.129571Z",
     "shell.execute_reply": "2022-12-12T13:26:45.128845Z",
     "shell.execute_reply.started": "2022-12-12T13:26:44.982979Z"
    },
    "jupyter": {
     "outputs_hidden": false
    }
   },
   "outputs": [
    {
     "name": "stdout",
     "output_type": "stream",
     "text": [
      "16/16 [==============================] - 0s 5ms/step\n"
     ]
    }
   ],
   "source": [
    "predictions = best_model.predict(X_test)"
   ]
  },
  {
   "cell_type": "code",
   "execution_count": 22,
   "metadata": {
    "execution": {
     "iopub.execute_input": "2022-12-12T13:26:45.953666Z",
     "iopub.status.busy": "2022-12-12T13:26:45.952727Z",
     "iopub.status.idle": "2022-12-12T13:26:45.957248Z",
     "shell.execute_reply": "2022-12-12T13:26:45.956555Z",
     "shell.execute_reply.started": "2022-12-12T13:26:45.953582Z"
    },
    "jupyter": {
     "outputs_hidden": false
    }
   },
   "outputs": [],
   "source": [
    "# Get most likely classes\n",
    "predicted_classes = np.argmax(predictions, axis=-1)"
   ]
  },
  {
   "cell_type": "code",
   "execution_count": 23,
   "metadata": {
    "execution": {
     "iopub.execute_input": "2022-12-12T13:26:47.041020Z",
     "iopub.status.busy": "2022-12-12T13:26:47.040081Z",
     "iopub.status.idle": "2022-12-12T13:26:47.043964Z",
     "shell.execute_reply": "2022-12-12T13:26:47.043419Z",
     "shell.execute_reply.started": "2022-12-12T13:26:47.040989Z"
    },
    "jupyter": {
     "outputs_hidden": false
    }
   },
   "outputs": [],
   "source": [
    "true_classes = y_test_classes"
   ]
  },
  {
   "cell_type": "code",
   "execution_count": 24,
   "metadata": {
    "execution": {
     "iopub.execute_input": "2022-12-12T13:26:48.181818Z",
     "iopub.status.busy": "2022-12-12T13:26:48.180895Z",
     "iopub.status.idle": "2022-12-12T13:26:48.385239Z",
     "shell.execute_reply": "2022-12-12T13:26:48.384243Z",
     "shell.execute_reply.started": "2022-12-12T13:26:48.181789Z"
    },
    "jupyter": {
     "outputs_hidden": false
    }
   },
   "outputs": [
    {
     "name": "stdout",
     "output_type": "stream",
     "text": [
      "Accuracy: 0.6543\n",
      "Precision: 0.6079\n",
      "Recall: 0.5197\n",
      "F1: 0.5281\n"
     ]
    },
    {
     "name": "stderr",
     "output_type": "stream",
     "text": [
      "/usr/local/lib/python3.9/dist-packages/sklearn/metrics/_classification.py:1327: UndefinedMetricWarning: Precision is ill-defined and being set to 0.0 in labels with no predicted samples. Use `zero_division` parameter to control this behavior.\n",
      "  _warn_prf(average, modifier, msg_start, len(result))\n"
     ]
    },
    {
     "data": {
      "image/png": "[encoded data removed]",
      "text/plain": [
       "<Figure size 720x576 with 2 Axes>"
      ]
     },
     "metadata": {
      "needs_background": "light"
     },
     "output_type": "display_data"
    }
   ],
   "source": [
    "# Compute the confusion matrix\n",
    "cm = confusion_matrix(true_classes, predicted_classes)\n",
    "\n",
    "# Compute the classification metrics\n",
    "accuracy = accuracy_score(true_classes, predicted_classes)\n",
    "precision = precision_score(true_classes, predicted_classes, average='macro')\n",
    "recall = recall_score(true_classes, predicted_classes, average='macro')\n",
    "f1 = f1_score(true_classes, predicted_classes, average='macro')\n",
    "print('Accuracy:',accuracy.round(4))\n",
    "print('Precision:',precision.round(4))\n",
    "print('Recall:',recall.round(4))\n",
    "print('F1:',f1.round(4))\n",
    "\n",
    "# Plot the confusion matrix\n",
    "plt.figure(figsize=(10,8))\n",
    "sns.heatmap(cm.T, cmap='Pastel1', xticklabels=training_labels, yticklabels=training_labels)\n",
    "plt.xlabel('True labels')\n",
    "plt.ylabel('Predicted labels')\n",
    "plt.show()"
   ]
  },
  {
   "cell_type": "markdown",
   "metadata": {},
   "source": [
    "## Save Model"
   ]
  },
  {
   "cell_type": "code",
   "execution_count": 18,
   "metadata": {
    "jupyter": {
     "outputs_hidden": false
    }
   },
   "outputs": [],
   "source": [
    "#model.save('1dBiLSTM')"
   ]
  }
 ],
 "metadata": {
  "kernelspec": {
   "display_name": "Python 3 (ipykernel)",
   "language": "python",
   "name": "python3"
  },
  "language_info": {
   "codemirror_mode": {
    "name": "ipython",
    "version": 3
   },
   "file_extension": ".py",
   "mimetype": "text/x-python",
   "name": "python",
   "nbconvert_exporter": "python",
   "pygments_lexer": "ipython3",
   "version": "3.9.13"
  }
 },
 "nbformat": 4,
 "nbformat_minor": 4
}
